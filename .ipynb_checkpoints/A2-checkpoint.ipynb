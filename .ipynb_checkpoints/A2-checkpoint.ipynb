{
 "cells": [
  {
   "cell_type": "code",
   "execution_count": 5,
   "metadata": {},
   "outputs": [
    {
     "name": "stdout",
     "output_type": "stream",
     "text": [
      "True\n",
      "False\n"
     ]
    }
   ],
   "source": [
    "def isPositive(x):\n",
    "    return True if x>0 else False\n",
    "\n",
    "print(isPositive(10))\n",
    "print(isPositive(-1))"
   ]
  },
  {
   "cell_type": "code",
   "execution_count": 6,
   "metadata": {},
   "outputs": [
    {
     "name": "stdout",
     "output_type": "stream",
     "text": [
      "Even\n",
      "Odd\n"
     ]
    }
   ],
   "source": [
    "def isOddEven(x):\n",
    "    return 'Even' if x%2==0 else 'Odd'\n",
    "\n",
    "print(isOddEven(6))\n",
    "print(isOddEven(55))"
   ]
  },
  {
   "cell_type": "code",
   "execution_count": 11,
   "metadata": {},
   "outputs": [
    {
     "name": "stdout",
     "output_type": "stream",
     "text": [
      "is a Leap Year\n",
      "not a Leap Year\n"
     ]
    }
   ],
   "source": [
    "def isLeapYear(y):\n",
    "    return 'is a Leap Year' if y%4==0 else 'not a Leap Year'\n",
    "\n",
    "print(isLeapYear(2020))\n",
    "print(isLeapYear(2019))"
   ]
  },
  {
   "cell_type": "code",
   "execution_count": 25,
   "metadata": {},
   "outputs": [
    {
     "name": "stdout",
     "output_type": "stream",
     "text": [
      "343\n",
      "23\n",
      "259\n",
      "343\n"
     ]
    }
   ],
   "source": [
    "def largest(x,y,z):\n",
    "        if x>y and x>z:\n",
    "            return x\n",
    "        elif x<y and y>z:\n",
    "            return y\n",
    "        else: \n",
    "            return z\n",
    "\n",
    "print(largest(raw_input(),raw_input(),raw_input()))"
   ]
  },
  {
   "cell_type": "code",
   "execution_count": 38,
   "metadata": {},
   "outputs": [
    {
     "name": "stdout",
     "output_type": "stream",
     "text": [
      "12345678910\n",
      "2345678910\n",
      "Using for loop\n",
      "2345678910\n"
     ]
    }
   ],
   "source": [
    "num = int (raw_input())\n",
    "numStr = str(num)\n",
    "if(len(numStr)>=10):\n",
    "    print(numStr[len(numStr)-10:len(numStr)])\n",
    "else : print('invalid String')\n",
    "    \n",
    "print('Using for loop')\n",
    "x = 1\n",
    "val =''\n",
    "for x in range (len(numStr) - 10,len(numStr)):\n",
    "    val = numStr[len(numStr)-x] + val\n",
    "    x +=1\n",
    "print(val)\n"
   ]
  },
  {
   "cell_type": "code",
   "execution_count": 30,
   "metadata": {},
   "outputs": [
    {
     "name": "stdout",
     "output_type": "stream",
     "text": [
      "5\n",
      "120\n"
     ]
    }
   ],
   "source": [
    "num = int (raw_input())\n",
    "fact = 1\n",
    "while num > 0:\n",
    "    fact = fact * num\n",
    "    num = num-1\n",
    "    \n",
    "print(fact)"
   ]
  },
  {
   "cell_type": "code",
   "execution_count": 39,
   "metadata": {},
   "outputs": [
    {
     "name": "stdout",
     "output_type": "stream",
     "text": [
      "34\n",
      "34\n",
      "2\n",
      "34\n"
     ]
    }
   ],
   "source": [
    "e = 34\n",
    "f = e\n",
    "print(e)\n",
    "print(f)\n",
    "e = 2\n",
    "print(e)\n",
    "print(f)"
   ]
  },
  {
   "cell_type": "code",
   "execution_count": 3,
   "metadata": {},
   "outputs": [
    {
     "data": {
      "text/plain": [
       "{1, 3, 5, 6, 8}"
      ]
     },
     "execution_count": 3,
     "metadata": {},
     "output_type": "execute_result"
    }
   ],
   "source": [
    "a = {1,2,3,4,5}\n",
    "b = {2,4,6,8}\n",
    "c = a.symmetric_difference(b)\n",
    "c"
   ]
  },
  {
   "cell_type": "code",
   "execution_count": null,
   "metadata": {},
   "outputs": [],
   "source": []
  }
 ],
 "metadata": {
  "kernelspec": {
   "display_name": "Python 2",
   "language": "python",
   "name": "python2"
  },
  "language_info": {
   "codemirror_mode": {
    "name": "ipython",
    "version": 2
   },
   "file_extension": ".py",
   "mimetype": "text/x-python",
   "name": "python",
   "nbconvert_exporter": "python",
   "pygments_lexer": "ipython2",
   "version": "2.7.16"
  }
 },
 "nbformat": 4,
 "nbformat_minor": 2
}
