{
 "cells": [
  {
   "cell_type": "code",
   "execution_count": 4,
   "metadata": {},
   "outputs": [
    {
     "data": {
      "text/plain": [
       "('Two', 'Three')"
      ]
     },
     "execution_count": 4,
     "metadata": {},
     "output_type": "execute_result"
    }
   ],
   "source": [
    "def minusTuple(inTuple):\n",
    "    return inTuple[1:len(inTuple)-1]\n",
    "\n",
    "x = (1,2,3,4)\n",
    "minusTuple(x)\n",
    "\n",
    "y = (\"One\", \"Two\", \"Three\", \"Four\")\n",
    "minusTuple(y)"
   ]
  },
  {
   "cell_type": "code",
   "execution_count": 9,
   "metadata": {},
   "outputs": [
    {
     "data": {
      "text/plain": [
       "([1, 3, 5], [2, 4, 6])"
      ]
     },
     "execution_count": 9,
     "metadata": {},
     "output_type": "execute_result"
    }
   ],
   "source": [
    "def oddEven(inList):\n",
    "    oddList =[]\n",
    "    evenList =[]\n",
    "    for y in range(0,len(inList)):\n",
    "        x = inList[y]\n",
    "        if x%2 == 0:\n",
    "            evenList.append(x)\n",
    "        else : oddList.append(x)\n",
    "    return (oddList, evenList)\n",
    "\n",
    "oddEven([1,2,3,4,5,6])\n"
   ]
  },
  {
   "cell_type": "code",
   "execution_count": 18,
   "metadata": {},
   "outputs": [
    {
     "data": {
      "text/plain": [
       "[5, 15, 25, 50]"
      ]
     },
     "execution_count": 18,
     "metadata": {},
     "output_type": "execute_result"
    }
   ],
   "source": [
    "list1 = [5, 20, 15, 20, 25, 50, 20]\n",
    "x = list1.remove(20)\n",
    "for i in list1:\n",
    "    if i == 20: list1.remove(i)\n",
    "list1      "
   ]
  },
  {
   "cell_type": "code",
   "execution_count": 21,
   "metadata": {},
   "outputs": [
    {
     "data": {
      "text/plain": [
       "{1: 'one', 2: 'two', 3: 'three', 4: 'four'}"
      ]
     },
     "execution_count": 21,
     "metadata": {},
     "output_type": "execute_result"
    }
   ],
   "source": [
    "numList = [1,2,3,4]\n",
    "wordList = [\"one\", \"two\", \"three\", \"four\"]\n",
    "nummap = {}\n",
    "for x in range(0,len(numList)):\n",
    "    nummap[numList[x]] = wordList[x]\n",
    "    \n",
    "nummap"
   ]
  },
  {
   "cell_type": "code",
   "execution_count": 31,
   "metadata": {},
   "outputs": [
    {
     "name": "stdout",
     "output_type": "stream",
     "text": [
      "['My', 'name', 'is', 'Vicky', 'and', 'I', 'am', 'learning', 'python', 'for', 'building', 'WebApps', 'and', 'Database', 'scripting', 'using', 'python']\n",
      "set(['and', 'building', 'name', 'for', 'Database', 'I', 'WebApps', 'is', 'am', 'python', 'learning', 'using', 'Vicky', 'My', 'scripting'])\n"
     ]
    }
   ],
   "source": [
    "para = 'My name is Vicky and I am learning python for building WebApps and Database scripting using python'\n",
    "parsedList = para.split(\" \")\n",
    "print(parsedList)\n",
    "pset = set(parsedList)\n",
    "print(pset)"
   ]
  },
  {
   "cell_type": "code",
   "execution_count": null,
   "metadata": {},
   "outputs": [],
   "source": []
  },
  {
   "cell_type": "code",
   "execution_count": null,
   "metadata": {},
   "outputs": [],
   "source": []
  }
 ],
 "metadata": {
  "kernelspec": {
   "display_name": "Python 2",
   "language": "python",
   "name": "python2"
  },
  "language_info": {
   "codemirror_mode": {
    "name": "ipython",
    "version": 2
   },
   "file_extension": ".py",
   "mimetype": "text/x-python",
   "name": "python",
   "nbconvert_exporter": "python",
   "pygments_lexer": "ipython2",
   "version": "2.7.16"
  }
 },
 "nbformat": 4,
 "nbformat_minor": 2
}
